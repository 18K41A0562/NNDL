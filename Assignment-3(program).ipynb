{
  "nbformat": 4,
  "nbformat_minor": 0,
  "metadata": {
    "colab": {
      "name": "Untitled6.ipynb",
      "provenance": [],
      "collapsed_sections": []
    },
    "kernelspec": {
      "name": "python3",
      "display_name": "Python 3"
    }
  },
  "cells": [
    {
      "cell_type": "code",
      "metadata": {
        "colab": {
          "base_uri": "https://localhost:8080/"
        },
        "id": "ukcK54pH1YSZ",
        "outputId": "df78ecbe-15bb-4137-f69d-79f42d449be2"
      },
      "source": [
        "#stochastic gradient descent\r\n",
        "\r\n",
        "from sympy import *\r\n",
        "import pandas as pd\r\n",
        "\r\n",
        "#step1\r\n",
        "m0=1\r\n",
        "c0=-1\r\n",
        "epoches=124\r\n",
        "learnrate=0.1\r\n",
        "iter=0\r\n",
        "\r\n",
        "\r\n",
        "#step2\r\n",
        "x=Symbol('x')\r\n",
        "y=Symbol('y')\r\n",
        "m=Symbol('m')\r\n",
        "c=Symbol('c')\r\n",
        "e=(1/2)*(y-(m*x)-c)**2\r\n",
        "fx=x**2+y**2+10\r\n",
        "e1=e.diff(m)\r\n",
        "e2=e.diff(c)\r\n",
        "\r\n",
        "#training..\r\n",
        "q=pd.read_csv(\"/content/train.csv\")\r\n",
        "#print(q['X'][0])\r\n",
        "for k in range(iter,epoches):\r\n",
        "  for i in q['X']:\r\n",
        "    x1=i\r\n",
        "    for j in q['Y']:\r\n",
        "      y1=j\r\n",
        "\r\n",
        "      dm=e1.subs(m,m0)\r\n",
        "      dm=dm.subs(c,c0)\r\n",
        "      dm=dm.subs(x,x1)\r\n",
        "      dm=dm.subs(y,y1)\r\n",
        "\r\n",
        "      dc=e2.subs(m,m0)\r\n",
        "      dc=dc.subs(c,c0)\r\n",
        "      dc=dc.subs(x,x1)\r\n",
        "      dc=dc.subs(y,y1)\r\n",
        "\r\n",
        "      cm = (-1.0)*(learnrate)*dm\r\n",
        "      cc = (-1.0)*(learnrate)*dc\r\n",
        "\r\n",
        "      m0 = m0+cm\r\n",
        "      m0 = m0.round(3)\r\n",
        "      c0 = c0+cc\r\n",
        "      c0 = c0.round(3)\r\n",
        "      break\r\n",
        "\r\n",
        "      #print(dm,dc)\r\n",
        "\r\n",
        "\r\n",
        "\r\n",
        "print(m0,c0)\r\n",
        "\r\n",
        "#testing...\r\n",
        "sum=0\r\n",
        "n=0\r\n",
        "p=pd.read_csv(\"/content/test.csv\")\r\n",
        "for i in p['X']:\r\n",
        "    x1=i\r\n",
        "    n+=1\r\n",
        "    for j in p['Y']:\r\n",
        "      y1=j\r\n",
        "      ee=e*2\r\n",
        "      ee=ee.subs(y,y1)\r\n",
        "      ee=ee.subs(x,x1)\r\n",
        "      ee=ee.subs(m,m0)\r\n",
        "      ee=ee.subs(c,c0)\r\n",
        "      sum+=ee\r\n",
        "      break\r\n",
        "mnE=(1/(2*n)) * sum\r\n",
        "print(mnE.round(3))"
      ],
      "execution_count": 36,
      "outputs": [
        {
          "output_type": "stream",
          "text": [
            "0.258 2.256\n",
            "3.027\n"
          ],
          "name": "stdout"
        }
      ]
    }
  ]
}