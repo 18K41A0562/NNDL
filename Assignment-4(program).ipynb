{
  "nbformat": 4,
  "nbformat_minor": 0,
  "metadata": {
    "colab": {
      "name": "Assignment-4(1prgm).ipynb",
      "provenance": [],
      "collapsed_sections": []
    },
    "kernelspec": {
      "name": "python3",
      "display_name": "Python 3"
    },
    "language_info": {
      "name": "python"
    }
  },
  "cells": [
    {
      "cell_type": "markdown",
      "metadata": {
        "id": "y6ImOurACO7M"
      },
      "source": [
        "#stochastic gradient descent(with dataset)"
      ]
    },
    {
      "cell_type": "code",
      "metadata": {
        "colab": {
          "base_uri": "https://localhost:8080/"
        },
        "id": "9CzQeutyB8RV",
        "outputId": "ead38b19-9996-4c88-c2c6-0208d849258f"
      },
      "source": [
        "#stochastic gradient descent\n",
        "import numpy as np\n",
        "import pandas as pd\n",
        "from scipy import stats\n",
        "import seaborn as sns\n",
        "\n",
        "data = pd.read_csv(\"/content/unioncarbide.csv\")\n",
        "print(data.head())"
      ],
      "execution_count": 2,
      "outputs": [
        {
          "output_type": "stream",
          "text": [
            "     X    Y\n",
            "0  7.6  157\n",
            "1  7.1  174\n",
            "2  8.2  175\n",
            "3  7.5  188\n",
            "4  7.4  171\n"
          ],
          "name": "stdout"
        }
      ]
    },
    {
      "cell_type": "code",
      "metadata": {
        "colab": {
          "base_uri": "https://localhost:8080/"
        },
        "id": "BHCKckNXIqnV",
        "outputId": "82bad097-68f1-4e87-f23f-c74513887707"
      },
      "source": [
        "#OUTLINERS\n",
        "\n",
        "out = np.abs(stats.zscore(data))\n",
        "print(out)"
      ],
      "execution_count": 3,
      "outputs": [
        {
          "output_type": "stream",
          "text": [
            "[[0.12500664 0.25847285]\n",
            " [1.13696519 0.56778404]\n",
            " [1.08934361 0.58597881]\n",
            " [0.32739835 0.8225109 ]\n",
            " [0.52979006 0.51319971]\n",
            " [0.27977677 0.00374598]\n",
            " [0.73218177 1.3501594 ]\n",
            " [0.68456019 0.85890045]\n",
            " [1.13696519 0.01444879]\n",
            " [0.32739835 0.85890045]\n",
            " [0.8869519  1.31376985]\n",
            " [1.3393569  1.02265344]\n",
            " [0.73218177 2.16892432]\n",
            " [0.27977677 0.6876555 ]\n",
            " [0.73218177 0.39653909]\n",
            " [0.68456019 1.12433013]\n",
            " [1.69651874 1.10613535]\n",
            " [1.13696519 1.22279597]\n",
            " [1.08934361 1.07723776]\n",
            " [0.48216848 0.22208329]\n",
            " [0.12500664 0.25847285]\n",
            " [2.30369386 0.07652509]\n",
            " [0.93457348 0.17820178]\n",
            " [0.48216848 1.63378385]\n",
            " [0.8869519  1.57919952]\n",
            " [0.07738507 0.5420973 ]\n",
            " [1.49412703 1.96128982]\n",
            " [0.52979006 0.32375998]\n",
            " [0.73218177 1.21530401]\n",
            " [1.69651874 1.72475773]\n",
            " [0.27977677 0.07652509]\n",
            " [1.94653203 0.46931819]\n",
            " [1.13696519 0.71334225]\n",
            " [0.73218177 1.01516147]]\n"
          ],
          "name": "stdout"
        }
      ]
    },
    {
      "cell_type": "code",
      "metadata": {
        "colab": {
          "base_uri": "https://localhost:8080/",
          "height": 296
        },
        "id": "kyNxJgb1JFSX",
        "outputId": "89b7dda8-0c10-423e-a36d-d1cada1b4f1c"
      },
      "source": [
        "sns.boxplot(x=data['X'])\n"
      ],
      "execution_count": 4,
      "outputs": [
        {
          "output_type": "execute_result",
          "data": {
            "text/plain": [
              "<matplotlib.axes._subplots.AxesSubplot at 0x7fadacc4e550>"
            ]
          },
          "metadata": {
            "tags": []
          },
          "execution_count": 4
        },
        {
          "output_type": "display_data",
          "data": {
            "image/png": "[encoded data removed]",
            "text/plain": [
              "<Figure size 432x288 with 1 Axes>"
            ]
          },
          "metadata": {
            "tags": [],
            "needs_background": "light"
          }
        }
      ]
    },
    {
      "cell_type": "code",
      "metadata": {
        "colab": {
          "base_uri": "https://localhost:8080/",
          "height": 269
        },
        "id": "YfsuLXv9JUH8",
        "outputId": "1defc8db-bfa7-4d0f-d656-c9c61e37765c"
      },
      "source": [
        "sns.boxplot(y=data['Y'])"
      ],
      "execution_count": 5,
      "outputs": [
        {
          "output_type": "execute_result",
          "data": {
            "text/plain": [
              "<matplotlib.axes._subplots.AxesSubplot at 0x7fadacbfa2d0>"
            ]
          },
          "metadata": {
            "tags": []
          },
          "execution_count": 5
        },
        {
          "output_type": "display_data",
          "data": {
            "image/png": "[encoded data removed]",
            "text/plain": [
              "<Figure size 432x288 with 1 Axes>"
            ]
          },
          "metadata": {
            "tags": [],
            "needs_background": "light"
          }
        }
      ]
    },
    {
      "cell_type": "code",
      "metadata": {
        "colab": {
          "base_uri": "https://localhost:8080/"
        },
        "id": "2lyBkH54JYIG",
        "outputId": "18b29c9c-1509-4ed6-c3a4-6c673b600620"
      },
      "source": [
        "data1 = data[(out<3).all(axis=1)]\n",
        "print(data1.head())"
      ],
      "execution_count": 6,
      "outputs": [
        {
          "output_type": "stream",
          "text": [
            "     X    Y\n",
            "0  7.6  157\n",
            "1  7.1  174\n",
            "2  8.2  175\n",
            "3  7.5  188\n",
            "4  7.4  171\n"
          ],
          "name": "stdout"
        }
      ]
    },
    {
      "cell_type": "code",
      "metadata": {
        "colab": {
          "base_uri": "https://localhost:8080/"
        },
        "id": "Z0IAkvdBJhN0",
        "outputId": "d2f71e5b-d590-43a5-978c-a33eb4d0ca09"
      },
      "source": [
        "df = data\n",
        "for i in df:\n",
        "  q = df[i].quantile(0.99)\n",
        "  df[df[i]<q]\n",
        "  q_low = df[i].quantile(0.01)\n",
        "  q_hi  = df[i].quantile(0.99)\n",
        "  df_filtered = df[(df[i]<q_hi) & (df[i]>q_low)]\n",
        "\n",
        "data = df_filtered\n",
        "print(len(data))\n",
        "print(len(df_filtered))\n",
        "if(len(data) == len(df_filtered)):\n",
        "  print('No outliners')\n",
        "else:\n",
        "  print('There are outliners')"
      ],
      "execution_count": 7,
      "outputs": [
        {
          "output_type": "stream",
          "text": [
            "32\n",
            "32\n",
            "No outliners\n"
          ],
          "name": "stdout"
        }
      ]
    },
    {
      "cell_type": "code",
      "metadata": {
        "colab": {
          "base_uri": "https://localhost:8080/",
          "height": 204
        },
        "id": "DI1GvI87L3Dp",
        "outputId": "7fc2decf-f0fa-451a-e8b2-02bb47976cab"
      },
      "source": [
        "data.head()"
      ],
      "execution_count": 8,
      "outputs": [
        {
          "output_type": "execute_result",
          "data": {
            "text/html": [
              "<div>\n",
              "<style scoped>\n",
              "    .dataframe tbody tr th:only-of-type {\n",
              "        vertical-align: middle;\n",
              "    }\n",
              "\n",
              "    .dataframe tbody tr th {\n",
              "        vertical-align: top;\n",
              "    }\n",
              "\n",
              "    .dataframe thead th {\n",
              "        text-align: right;\n",
              "    }\n",
              "</style>\n",
              "<table border=\"1\" class=\"dataframe\">\n",
              "  <thead>\n",
              "    <tr style=\"text-align: right;\">\n",
              "      <th></th>\n",
              "      <th>X</th>\n",
              "      <th>Y</th>\n",
              "    </tr>\n",
              "  </thead>\n",
              "  <tbody>\n",
              "    <tr>\n",
              "      <th>0</th>\n",
              "      <td>7.6</td>\n",
              "      <td>157</td>\n",
              "    </tr>\n",
              "    <tr>\n",
              "      <th>1</th>\n",
              "      <td>7.1</td>\n",
              "      <td>174</td>\n",
              "    </tr>\n",
              "    <tr>\n",
              "      <th>2</th>\n",
              "      <td>8.2</td>\n",
              "      <td>175</td>\n",
              "    </tr>\n",
              "    <tr>\n",
              "      <th>3</th>\n",
              "      <td>7.5</td>\n",
              "      <td>188</td>\n",
              "    </tr>\n",
              "    <tr>\n",
              "      <th>4</th>\n",
              "      <td>7.4</td>\n",
              "      <td>171</td>\n",
              "    </tr>\n",
              "  </tbody>\n",
              "</table>\n",
              "</div>"
            ],
            "text/plain": [
              "     X    Y\n",
              "0  7.6  157\n",
              "1  7.1  174\n",
              "2  8.2  175\n",
              "3  7.5  188\n",
              "4  7.4  171"
            ]
          },
          "metadata": {
            "tags": []
          },
          "execution_count": 8
        }
      ]
    },
    {
      "cell_type": "code",
      "metadata": {
        "colab": {
          "base_uri": "https://localhost:8080/"
        },
        "id": "d92AEJi8IQg_",
        "outputId": "cfff637d-b343-430c-c138-b96d374913aa"
      },
      "source": [
        "#normalization\n",
        "\n",
        "data1 = data\n",
        "data1 = (data1-data1.min())/(data1.max()-data1.min())\n",
        "print(data1.head())"
      ],
      "execution_count": 9,
      "outputs": [
        {
          "output_type": "stream",
          "text": [
            "          X         Y\n",
            "0  0.428571  0.644970\n",
            "1  0.190476  0.745562\n",
            "2  0.714286  0.751479\n",
            "3  0.380952  0.828402\n",
            "4  0.333333  0.727811\n"
          ],
          "name": "stdout"
        }
      ]
    },
    {
      "cell_type": "code",
      "metadata": {
        "id": "rgF_DPb6TU6d"
      },
      "source": [
        "#split data\n",
        "from sklearn.model_selection import train_test_split\n",
        "train_data,test_data=train_test_split(data1,test_size=0.1)"
      ],
      "execution_count": 10,
      "outputs": []
    },
    {
      "cell_type": "code",
      "metadata": {
        "id": "7e6X5cjmUKyL"
      },
      "source": [
        "xa = np.array(train_data['X'])\n",
        "ya = np.array(train_data['Y'])"
      ],
      "execution_count": 11,
      "outputs": []
    },
    {
      "cell_type": "code",
      "metadata": {
        "id": "fbODglmpAWhv",
        "colab": {
          "base_uri": "https://localhost:8080/"
        },
        "outputId": "92e60e2a-a04f-4373-c4f2-3b649c9d5796"
      },
      "source": [
        "\n",
        "\n",
        "from sympy import *\n",
        "import pandas as pd\n",
        "import random\n",
        "from math import *\n",
        "\n",
        "\n",
        "#step1\n",
        "m0=random.randint(-9,9)\n",
        "c0=random.randint(-9,9)\n",
        "epoches=124\n",
        "learnrate=0.1\n",
        "iter=0\n",
        "\n",
        "\n",
        "#step2\n",
        "x=Symbol('x')\n",
        "y=Symbol('y')\n",
        "m=Symbol('m')\n",
        "c=Symbol('c')\n",
        "e=(0.5)*(y-(m*x)-c)**2\n",
        "\n",
        "e1=e.diff(m)\n",
        "e2=e.diff(c)\n",
        "\n",
        "#training..\n",
        "\n",
        "\n",
        "for iter in range(epoches):\n",
        "  for i in range(0,len(xa)):\n",
        "    \n",
        "    dm=e1.subs([(m,m0),(c,c0),(x,xa[i]),(y,ya[i])])\n",
        "    dc=e2.subs([(m,m0),(c,c0),(x,xa[i]),(y,ya[i])])\n",
        "\n",
        "    cm = (-1.0)*(learnrate)*dm\n",
        "    cc = (-1.0)*(learnrate)*dc\n",
        "\n",
        "    m0 = m0+cm\n",
        "    m0 = m0.round(3)\n",
        "    c0 = c0+cc\n",
        "    c0 = c0.round(3)\n",
        "\n",
        "      \n",
        "\n",
        "\n",
        "\n",
        "print(m0,c0)\n",
        "\n"
      ],
      "execution_count": 12,
      "outputs": [
        {
          "output_type": "stream",
          "text": [
            "-0.447 0.822\n"
          ],
          "name": "stdout"
        }
      ]
    },
    {
      "cell_type": "code",
      "metadata": {
        "colab": {
          "base_uri": "https://localhost:8080/"
        },
        "id": "gcvtaF0l7JpF",
        "outputId": "06c1228c-846f-425e-b5cb-0567c5ad6235"
      },
      "source": [
        "#RSME on training data\n",
        "\n",
        "from sklearn.metrics import mean_squared_error\n",
        "tr_predicted =  m0 * train_data['X'] + c0\n",
        "\n",
        "e1 = mean_squared_error(predicted, train_data['Y'])\n",
        "print(\"Mean Square Error is:\", e1)"
      ],
      "execution_count": 17,
      "outputs": [
        {
          "output_type": "stream",
          "text": [
            "Mean Square Error is: 0.08244203034286454\n"
          ],
          "name": "stdout"
        }
      ]
    },
    {
      "cell_type": "code",
      "metadata": {
        "colab": {
          "base_uri": "https://localhost:8080/"
        },
        "id": "HGXgZmXS99b9",
        "outputId": "ffbfa717-cffd-45fc-c3bf-cc7002c7a605"
      },
      "source": [
        "#testing...\n",
        "t_predicted = m0 * test_data['X'] + c0\n",
        "e2 = mean_squared_error(t_predicted, test_data['Y'])\n",
        "print(\"Mean Square Error:\",e2)"
      ],
      "execution_count": 18,
      "outputs": [
        {
          "output_type": "stream",
          "text": [
            "Mean Square Error: 0.09162096134704668\n"
          ],
          "name": "stdout"
        }
      ]
    },
    {
      "cell_type": "code",
      "metadata": {
        "id": "dfXG6IcwCvTd"
      },
      "source": [
        "x_min = data['X'].min()\n",
        "x_max = data['X'].max()\n",
        "y_min = data['Y'].min()\n",
        "y_max = data['Y'].max()"
      ],
      "execution_count": 19,
      "outputs": []
    },
    {
      "cell_type": "code",
      "metadata": {
        "colab": {
          "base_uri": "https://localhost:8080/"
        },
        "id": "JBIAaZEkoQaY",
        "outputId": "8fa35146-bd4b-4bd3-ffc4-ec63da13bf16"
      },
      "source": [
        "#estimating the output......\n",
        "\n",
        "x=float(input(\"Enter pH value of well water: \"))\n",
        "x1=x\n",
        "x=(x - x_min)/(x_max - x_min)\n",
        "y=m0 * x + c0\n",
        "y=y*(y_max - y_min) + y_min\n",
        "print(f\"Estimated bicarbonates of well water based on its pH {x1} is : {y}\")"
      ],
      "execution_count": 24,
      "outputs": [
        {
          "output_type": "stream",
          "text": [
            "Enter pH value of well water: 8.1\n",
            "Estimated bicarbonates of well water based on its pH 8.1 is : 136.557210286458\n"
          ],
          "name": "stdout"
        }
      ]
    }
  ]
}