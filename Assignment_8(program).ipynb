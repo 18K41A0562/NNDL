{
  "nbformat": 4,
  "nbformat_minor": 0,
  "metadata": {
    "colab": {
      "name": "Assignment-8(program).ipynb",
      "provenance": [],
      "collapsed_sections": []
    },
    "kernelspec": {
      "name": "python3",
      "display_name": "Python 3"
    },
    "language_info": {
      "name": "python"
    }
  },
  "cells": [
    {
      "cell_type": "code",
      "metadata": {
        "colab": {
          "base_uri": "https://localhost:8080/",
          "height": 204
        },
        "id": "5kbUlqKQETNx",
        "outputId": "513d1964-ddd1-4851-bc96-11b1916300ce"
      },
      "source": [
        "#batch\n",
        "\n",
        "import numpy as np\n",
        "import pandas as pd\n",
        "from sklearn.model_selection import train_test_split\n",
        "import seaborn as sns\n",
        "from scipy import stats\n",
        "\n",
        "data = pd.read_csv(\"/content/data.csv\")\n",
        "data.head()"
      ],
      "execution_count": 3,
      "outputs": [
        {
          "output_type": "execute_result",
          "data": {
            "text/html": [
              "<div>\n",
              "<style scoped>\n",
              "    .dataframe tbody tr th:only-of-type {\n",
              "        vertical-align: middle;\n",
              "    }\n",
              "\n",
              "    .dataframe tbody tr th {\n",
              "        vertical-align: top;\n",
              "    }\n",
              "\n",
              "    .dataframe thead th {\n",
              "        text-align: right;\n",
              "    }\n",
              "</style>\n",
              "<table border=\"1\" class=\"dataframe\">\n",
              "  <thead>\n",
              "    <tr style=\"text-align: right;\">\n",
              "      <th></th>\n",
              "      <th>pressure</th>\n",
              "      <th>weight</th>\n",
              "    </tr>\n",
              "  </thead>\n",
              "  <tbody>\n",
              "    <tr>\n",
              "      <th>0</th>\n",
              "      <td>75.1</td>\n",
              "      <td>577.8</td>\n",
              "    </tr>\n",
              "    <tr>\n",
              "      <th>1</th>\n",
              "      <td>74.3</td>\n",
              "      <td>577.0</td>\n",
              "    </tr>\n",
              "    <tr>\n",
              "      <th>2</th>\n",
              "      <td>88.7</td>\n",
              "      <td>570.9</td>\n",
              "    </tr>\n",
              "    <tr>\n",
              "      <th>3</th>\n",
              "      <td>114.6</td>\n",
              "      <td>578.6</td>\n",
              "    </tr>\n",
              "    <tr>\n",
              "      <th>4</th>\n",
              "      <td>98.5</td>\n",
              "      <td>572.4</td>\n",
              "    </tr>\n",
              "  </tbody>\n",
              "</table>\n",
              "</div>"
            ],
            "text/plain": [
              "   pressure  weight\n",
              "0      75.1   577.8\n",
              "1      74.3   577.0\n",
              "2      88.7   570.9\n",
              "3     114.6   578.6\n",
              "4      98.5   572.4"
            ]
          },
          "metadata": {
            "tags": []
          },
          "execution_count": 3
        }
      ]
    },
    {
      "cell_type": "code",
      "metadata": {
        "colab": {
          "base_uri": "https://localhost:8080/"
        },
        "id": "lmTSe-qHEVW-",
        "outputId": "e914d989-4bcb-4a0b-c035-40f76a5f2793"
      },
      "source": [
        "#removing missing values\n",
        "null_filter = data['pressure'].notnull()\n",
        "print(data[null_filter])"
      ],
      "execution_count": 4,
      "outputs": [
        {
          "output_type": "stream",
          "text": [
            "    pressure  weight\n",
            "0       75.1   577.8\n",
            "1       74.3   577.0\n",
            "2       88.7   570.9\n",
            "3      114.6   578.6\n",
            "4       98.5   572.4\n",
            "5      112.0   411.2\n",
            "6      114.8   531.7\n",
            "7       62.2   563.9\n",
            "8      107.0   406.7\n",
            "9       90.5   507.1\n",
            "10      73.8   496.4\n",
            "11     115.8   505.2\n",
            "12      99.4   506.4\n",
            "13      93.0   510.2\n",
            "14      73.9   503.9\n",
            "15      65.7   506.2\n",
            "16      66.2   506.3\n",
            "17      77.9   510.2\n",
            "18     109.8   508.6\n",
            "19     105.4   510.9\n",
            "20      88.6   505.4\n",
            "21      89.6   512.8\n",
            "22      73.8   502.8\n",
            "23     101.3   493.0\n",
            "24     120.0   510.8\n",
            "25      75.9   512.8\n",
            "26      76.2   513.4\n",
            "27      81.9   510.0\n",
            "28      84.3   504.3\n",
            "29      98.0   522.0\n"
          ],
          "name": "stdout"
        }
      ]
    },
    {
      "cell_type": "code",
      "metadata": {
        "colab": {
          "base_uri": "https://localhost:8080/"
        },
        "id": "MQwRuvDsWJng",
        "outputId": "2aec74ac-ba15-4c80-c2b7-428e8b163a11"
      },
      "source": [
        "out = np.abs(stats.zscore(data))\n",
        "print(out)"
      ],
      "execution_count": 5,
      "outputs": [
        {
          "output_type": "stream",
          "text": [
            "[[0.90855142 1.61656054]\n",
            " [0.95645395 1.59597943]\n",
            " [0.09420832 1.43904846]\n",
            " [1.45663625 1.63714165]\n",
            " [0.49259774 1.47763804]\n",
            " [1.30095302 2.6694559 ]\n",
            " [1.46861189 0.430574  ]\n",
            " [1.68097979 1.25896373]\n",
            " [1.00156217 2.78522465]\n",
            " [0.01357238 0.20229517]\n",
            " [0.98639304 0.47756754]\n",
            " [1.52849006 0.25117531]\n",
            " [0.54648809 0.22030365]\n",
            " [0.16326781 0.12254337]\n",
            " [0.98040522 0.28461962]\n",
            " [1.4714062  0.22544892]\n",
            " [1.44146712 0.22287629]\n",
            " [0.74089254 0.12254337]\n",
            " [1.16922104 0.16370559]\n",
            " [0.9057571  0.10453489]\n",
            " [0.10019614 0.24603004]\n",
            " [0.04031797 0.05565476]\n",
            " [0.98639304 0.31291865]\n",
            " [0.66025661 0.56503726]\n",
            " [1.77997837 0.10710753]\n",
            " [0.86064888 0.05565476]\n",
            " [0.84268543 0.04021892]\n",
            " [0.50137987 0.12768865]\n",
            " [0.35767226 0.27432906]\n",
            " [0.46265865 0.18102803]]\n"
          ],
          "name": "stdout"
        }
      ]
    },
    {
      "cell_type": "code",
      "metadata": {
        "colab": {
          "base_uri": "https://localhost:8080/",
          "height": 296
        },
        "id": "bZtbUY3PEZiS",
        "outputId": "8247dfe1-c476-49c7-8245-9d24b88e894f"
      },
      "source": [
        "#outliners treatment\n",
        "sns.boxplot(x=data['pressure'])"
      ],
      "execution_count": 7,
      "outputs": [
        {
          "output_type": "execute_result",
          "data": {
            "text/plain": [
              "<matplotlib.axes._subplots.AxesSubplot at 0x7f64d3cf7850>"
            ]
          },
          "metadata": {
            "tags": []
          },
          "execution_count": 7
        },
        {
          "output_type": "display_data",
          "data": {
            "image/png": "[encoded data removed]",
            "text/plain": [
              "<Figure size 432x288 with 1 Axes>"
            ]
          },
          "metadata": {
            "tags": [],
            "needs_background": "light"
          }
        }
      ]
    },
    {
      "cell_type": "code",
      "metadata": {
        "colab": {
          "base_uri": "https://localhost:8080/",
          "height": 269
        },
        "id": "plALlHp7Ykqp",
        "outputId": "ff5a235d-f929-40c9-da86-22dc23c434ca"
      },
      "source": [
        "sns.boxplot(y=data['weight'])"
      ],
      "execution_count": 9,
      "outputs": [
        {
          "output_type": "execute_result",
          "data": {
            "text/plain": [
              "<matplotlib.axes._subplots.AxesSubplot at 0x7f64d3737e10>"
            ]
          },
          "metadata": {
            "tags": []
          },
          "execution_count": 9
        },
        {
          "output_type": "display_data",
          "data": {
            "image/png": "[encoded data removed]",
            "text/plain": [
              "<Figure size 432x288 with 1 Axes>"
            ]
          },
          "metadata": {
            "tags": [],
            "needs_background": "light"
          }
        }
      ]
    },
    {
      "cell_type": "code",
      "metadata": {
        "colab": {
          "base_uri": "https://localhost:8080/",
          "height": 204
        },
        "id": "rkdUYqDzYuWE",
        "outputId": "5333bd1b-c0ff-4847-ef68-dc5b5ea0cd5b"
      },
      "source": [
        "up_data = data[(out < 3).all(axis=1)]\n",
        "up_data.head()"
      ],
      "execution_count": 11,
      "outputs": [
        {
          "output_type": "execute_result",
          "data": {
            "text/html": [
              "<div>\n",
              "<style scoped>\n",
              "    .dataframe tbody tr th:only-of-type {\n",
              "        vertical-align: middle;\n",
              "    }\n",
              "\n",
              "    .dataframe tbody tr th {\n",
              "        vertical-align: top;\n",
              "    }\n",
              "\n",
              "    .dataframe thead th {\n",
              "        text-align: right;\n",
              "    }\n",
              "</style>\n",
              "<table border=\"1\" class=\"dataframe\">\n",
              "  <thead>\n",
              "    <tr style=\"text-align: right;\">\n",
              "      <th></th>\n",
              "      <th>pressure</th>\n",
              "      <th>weight</th>\n",
              "    </tr>\n",
              "  </thead>\n",
              "  <tbody>\n",
              "    <tr>\n",
              "      <th>0</th>\n",
              "      <td>75.1</td>\n",
              "      <td>577.8</td>\n",
              "    </tr>\n",
              "    <tr>\n",
              "      <th>1</th>\n",
              "      <td>74.3</td>\n",
              "      <td>577.0</td>\n",
              "    </tr>\n",
              "    <tr>\n",
              "      <th>2</th>\n",
              "      <td>88.7</td>\n",
              "      <td>570.9</td>\n",
              "    </tr>\n",
              "    <tr>\n",
              "      <th>3</th>\n",
              "      <td>114.6</td>\n",
              "      <td>578.6</td>\n",
              "    </tr>\n",
              "    <tr>\n",
              "      <th>4</th>\n",
              "      <td>98.5</td>\n",
              "      <td>572.4</td>\n",
              "    </tr>\n",
              "  </tbody>\n",
              "</table>\n",
              "</div>"
            ],
            "text/plain": [
              "   pressure  weight\n",
              "0      75.1   577.8\n",
              "1      74.3   577.0\n",
              "2      88.7   570.9\n",
              "3     114.6   578.6\n",
              "4      98.5   572.4"
            ]
          },
          "metadata": {
            "tags": []
          },
          "execution_count": 11
        }
      ]
    },
    {
      "cell_type": "code",
      "metadata": {
        "colab": {
          "base_uri": "https://localhost:8080/"
        },
        "id": "QGfz-e3gY187",
        "outputId": "1577e130-ee1a-457c-9d6c-61fbbd65ba91"
      },
      "source": [
        "print(len(data))\n",
        "print(len(up_data))\n",
        "if(len(data) == len(up_data)):\n",
        "    print('No outliners')"
      ],
      "execution_count": 13,
      "outputs": [
        {
          "output_type": "stream",
          "text": [
            "30\n",
            "30\n",
            "No outliners\n"
          ],
          "name": "stdout"
        }
      ]
    },
    {
      "cell_type": "code",
      "metadata": {
        "colab": {
          "base_uri": "https://localhost:8080/",
          "height": 204
        },
        "id": "dtFhdp7dEbYy",
        "outputId": "c6b48249-942b-4220-ff44-615d8d16be8b"
      },
      "source": [
        "#normalization\n",
        "\n",
        "n_data = data.copy()\n",
        "n_data = (n_data - n_data.min())/(n_data.max() - n_data.min())\n",
        "n_data.head()"
      ],
      "execution_count": 14,
      "outputs": [
        {
          "output_type": "execute_result",
          "data": {
            "text/html": [
              "<div>\n",
              "<style scoped>\n",
              "    .dataframe tbody tr th:only-of-type {\n",
              "        vertical-align: middle;\n",
              "    }\n",
              "\n",
              "    .dataframe tbody tr th {\n",
              "        vertical-align: top;\n",
              "    }\n",
              "\n",
              "    .dataframe thead th {\n",
              "        text-align: right;\n",
              "    }\n",
              "</style>\n",
              "<table border=\"1\" class=\"dataframe\">\n",
              "  <thead>\n",
              "    <tr style=\"text-align: right;\">\n",
              "      <th></th>\n",
              "      <th>pressure</th>\n",
              "      <th>weight</th>\n",
              "    </tr>\n",
              "  </thead>\n",
              "  <tbody>\n",
              "    <tr>\n",
              "      <th>0</th>\n",
              "      <td>0.223183</td>\n",
              "      <td>0.995346</td>\n",
              "    </tr>\n",
              "    <tr>\n",
              "      <th>1</th>\n",
              "      <td>0.209343</td>\n",
              "      <td>0.990692</td>\n",
              "    </tr>\n",
              "    <tr>\n",
              "      <th>2</th>\n",
              "      <td>0.458478</td>\n",
              "      <td>0.955207</td>\n",
              "    </tr>\n",
              "    <tr>\n",
              "      <th>3</th>\n",
              "      <td>0.906574</td>\n",
              "      <td>1.000000</td>\n",
              "    </tr>\n",
              "    <tr>\n",
              "      <th>4</th>\n",
              "      <td>0.628028</td>\n",
              "      <td>0.963933</td>\n",
              "    </tr>\n",
              "  </tbody>\n",
              "</table>\n",
              "</div>"
            ],
            "text/plain": [
              "   pressure    weight\n",
              "0  0.223183  0.995346\n",
              "1  0.209343  0.990692\n",
              "2  0.458478  0.955207\n",
              "3  0.906574  1.000000\n",
              "4  0.628028  0.963933"
            ]
          },
          "metadata": {
            "tags": []
          },
          "execution_count": 14
        }
      ]
    },
    {
      "cell_type": "code",
      "metadata": {
        "colab": {
          "base_uri": "https://localhost:8080/"
        },
        "id": "zCuya7zNEged",
        "outputId": "1b0282eb-4403-47a9-a055-c3bcdb5b6a04"
      },
      "source": [
        "train_data,test_data = train_test_split(n_data,test_size=0.1)\n",
        "\n",
        "print(train_data.head())\n",
        "print('--------------------------------------')\n",
        "print(test_data.head())"
      ],
      "execution_count": 16,
      "outputs": [
        {
          "output_type": "stream",
          "text": [
            "    pressure    weight\n",
            "22  0.200692  0.559046\n",
            "25  0.237024  0.617219\n",
            "16  0.069204  0.579407\n",
            "3   0.906574  1.000000\n",
            "0   0.223183  0.995346\n",
            "--------------------------------------\n",
            "    pressure    weight\n",
            "26  0.242215  0.620710\n",
            "12  0.643599  0.579988\n",
            "8   0.775087  0.000000\n"
          ],
          "name": "stdout"
        }
      ]
    },
    {
      "cell_type": "code",
      "metadata": {
        "id": "9LS296Z2apYY"
      },
      "source": [
        "xa = np.array(train_data['pressure'])\n",
        "ya = np.array(train_data['weight'])"
      ],
      "execution_count": 18,
      "outputs": []
    },
    {
      "cell_type": "code",
      "metadata": {
        "colab": {
          "base_uri": "https://localhost:8080/"
        },
        "id": "FKTWMK9QgRrM",
        "outputId": "ffa8c137-c077-4420-b596-0ccc5e5386d5"
      },
      "source": [
        "#Batch GD\n",
        "\n",
        "from sympy import *\n",
        "import pandas as pd\n",
        "import random\n",
        "from math import *\n",
        "\n",
        "#step1\n",
        "m0=random.randint(-9,9)\n",
        "c0=random.randint(-9,9)\n",
        "epoches=124\n",
        "learnrate=0.001\n",
        "iter=0\n",
        "dm=0\n",
        "dc=0\n",
        "\n",
        "\n",
        "#step2\n",
        "\n",
        "n0,m=train_data.shape\n",
        "x,y,m,c,ns=symbols('x y m c ns')\n",
        "e=(1/(2*ns))*((y-(m*x)-c)**2)\n",
        "\n",
        "em=e.diff(m)\n",
        "ec=e.diff(c)\n",
        "print(em,ec)\n",
        "\n",
        "#training..\n",
        "\n",
        "for iter in range(epoches):\n",
        "  for i in range(len(xa)):\n",
        "    x1=xa[i]\n",
        "    y1=ya[i]\n",
        "    \n",
        "    dm=dm+em.subs([(m,m0),(c,c0),(x,x1),(y,y1),(ns,n0)])\n",
        "    dc=dc+ec.subs([(m,m0),(c,c0),(x,x1),(y,y1),(ns,n0)])\n",
        "      \n",
        "  cm = (-1.0)*(learnrate)*dm\n",
        "  cc = (-1.0)*(learnrate)*dc\n",
        "\n",
        "  m0 = m0+cm\n",
        "  m0 = round(m0,3)\n",
        "  c0 = c0+cc\n",
        "  c0 = c0.round(3)\n",
        "  \n",
        "\n",
        "\n",
        "print('m = ',m0,', c = ',c0)\n",
        "\n"
      ],
      "execution_count": 41,
      "outputs": [
        {
          "output_type": "stream",
          "text": [
            "-x*(-c - m*x + y)/ns (2*c + 2*m*x - 2*y)/(2*ns)\n",
            "m =  1.156 , c =  2.619\n"
          ],
          "name": "stdout"
        }
      ]
    },
    {
      "cell_type": "code",
      "metadata": {
        "colab": {
          "base_uri": "https://localhost:8080/"
        },
        "id": "4xFkGJotcPB7",
        "outputId": "9003b202-8044-4fa3-9fe4-ee37a93614f1"
      },
      "source": [
        "#RSME for traing data\n",
        "\n",
        "tr_predicted =  m0*train_data['pressure'] + c0\n",
        "\n",
        "from sklearn.metrics import mean_squared_error\n",
        "e1 = mean_squared_error(tr_predicted, train_data['weight'])\n",
        "print(\"RSM error is:\",e1)"
      ],
      "execution_count": 42,
      "outputs": [
        {
          "output_type": "stream",
          "text": [
            "RSM error is: 6.5118540597231105\n"
          ],
          "name": "stdout"
        }
      ]
    },
    {
      "cell_type": "code",
      "metadata": {
        "colab": {
          "base_uri": "https://localhost:8080/"
        },
        "id": "AjUntq9FeOym",
        "outputId": "747c6eb2-0e67-448c-856e-8d418ec40db4"
      },
      "source": [
        "#MSE on test data\n",
        "\n",
        "t_predicted = m0 * test_data['pressure'] + c0\n",
        "e2 = mean_squared_error(t_predicted, test_data['weight'])\n",
        "print(\"Mean Square error is:\",e2)"
      ],
      "execution_count": 43,
      "outputs": [
        {
          "output_type": "stream",
          "text": [
            "Mean Square error is: 8.43027985694882\n"
          ],
          "name": "stdout"
        }
      ]
    },
    {
      "cell_type": "code",
      "metadata": {
        "id": "1ckj3XqshD_Y"
      },
      "source": [
        "x_min = data['pressure'].min()\n",
        "x_max = data['pressure'].max()\n",
        "y_min = data['weight'].min()\n",
        "y_max = data['weight'].max()"
      ],
      "execution_count": 44,
      "outputs": []
    },
    {
      "cell_type": "code",
      "metadata": {
        "colab": {
          "base_uri": "https://localhost:8080/"
        },
        "id": "X0KHhmeZCfIG",
        "outputId": "a02ffa82-07a2-4027-8318-de99c9c7c0f8"
      },
      "source": [
        "#estimated output\n",
        "\n",
        "x = float(input(\"enter pressure of liquid nitrogen value :\"))\n",
        "x1 = x\n",
        "x = (x - x_min)/(x_max - x_min)\n",
        "y = m0*x + c0\n",
        "y = y*(y_max - y_min) + y_min\n",
        "print(f\"Estimated Weight of liquid nitrogen based on its pressure {x1} is : {y}\")"
      ],
      "execution_count": 45,
      "outputs": [
        {
          "output_type": "stream",
          "text": [
            "enter pressure of liquid nitrogen value :85.2\n",
            "Estimated Weight of liquid nitrogen based on its pressure 85.2 is : 935.978444378599\n"
          ],
          "name": "stdout"
        }
      ]
    },
    {
      "cell_type": "code",
      "metadata": {
        "id": "S-wPEBSphXRh"
      },
      "source": [
        ""
      ],
      "execution_count": null,
      "outputs": []
    }
  ]
}