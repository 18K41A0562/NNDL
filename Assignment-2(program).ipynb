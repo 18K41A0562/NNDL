{
  "nbformat": 4,
  "nbformat_minor": 0,
  "metadata": {
    "colab": {
      "name": "Assignment-2(program).ipynb",
      "provenance": [],
      "collapsed_sections": []
    },
    "kernelspec": {
      "name": "python3",
      "display_name": "Python 3"
    }
  },
  "cells": [
    {
      "cell_type": "code",
      "metadata": {
        "colab": {
          "base_uri": "https://localhost:8080/"
        },
        "id": "r2GaJHtooLs4",
        "outputId": "e4b7bd2c-3354-4c43-8fe0-0ffb92b23f0b"
      },
      "source": [
        "from sympy import *  #library for symbolic mathematics\r\n",
        "import random\r\n",
        "\r\n",
        "#step1 (initialize variables)\r\n",
        "x0 = random.randint(-9,9) \r\n",
        "y0 = random.randint(-9,9)\r\n",
        "epoches = 124\r\n",
        "learnrate = 0.1\r\n",
        "print(x0,y0)\r\n",
        "\r\n",
        "#step2 (1st derivative of the function)\r\n",
        "x=Symbol('x')\r\n",
        "y=Symbol('y')\r\n",
        "f=x**2+y**2+10\r\n",
        "fx=f.diff(x)\r\n",
        "fy=f.diff(y)\r\n",
        "\r\n",
        "#calculate value of 1st derivative at x0 & y0\r\n",
        "for i in range(0,epoches):   # --> step5 (increments the iter i value)\r\n",
        "  dfx=fx.subs(x,x0)\r\n",
        "  dfy=fy.subs(y,y0)\r\n",
        "  dfx=round(dfx,2)\r\n",
        "  dfy=round(dfy,2)\r\n",
        "\r\n",
        "  #step3 (change in x,y values)\r\n",
        "  cx=-1*(learnrate)*dfx\r\n",
        "  cy=-1*(learnrate)*dfy\r\n",
        "  cx=round(cx,2)\r\n",
        "  cy=round(cy,2)\r\n",
        "\r\n",
        "  #step4 (update x & y values)\r\n",
        "  x0=x0+cx\r\n",
        "  y0=y0+cy\r\n",
        "  x0=round(x0,2)\r\n",
        "  y0=round(y0,2)\r\n",
        "  \r\n",
        "  #step6 (checks to break the loop or not)\r\n",
        "  if i>epoches:\r\n",
        "    break\r\n",
        "  else:\r\n",
        "    continue\r\n",
        "\r\n"
      ],
      "execution_count": 14,
      "outputs": [
        {
          "output_type": "stream",
          "text": [
            "5 -6\n"
          ],
          "name": "stdout"
        }
      ]
    },
    {
      "cell_type": "code",
      "metadata": {
        "colab": {
          "base_uri": "https://localhost:8080/"
        },
        "id": "CQauwxdKocvn",
        "outputId": "3ed368c3-8400-4d97-a140-e135f94aec70"
      },
      "source": [
        "#step7 (print the x,y)  ***here i didn't get function's min value as '0'***\r\n",
        "print('The minimum value obtained is, at x =',x0)\r\n",
        "print('The minimum value obtained is, at y =',y0)"
      ],
      "execution_count": 15,
      "outputs": [
        {
          "output_type": "stream",
          "text": [
            "The minimum value obtained is, at x = 0.02\n",
            "The minimum value obtained is, at y = -0.02\n"
          ],
          "name": "stdout"
        }
      ]
    }
  ]
}