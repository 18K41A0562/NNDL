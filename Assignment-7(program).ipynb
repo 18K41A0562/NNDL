{
  "nbformat": 4,
  "nbformat_minor": 0,
  "metadata": {
    "colab": {
      "name": "Assignment-7(program).ipynb",
      "provenance": [],
      "collapsed_sections": []
    },
    "kernelspec": {
      "name": "python3",
      "display_name": "Python 3"
    },
    "language_info": {
      "name": "python"
    }
  },
  "cells": [
    {
      "cell_type": "code",
      "metadata": {
        "colab": {
          "base_uri": "https://localhost:8080/"
        },
        "id": "FFxAn4BE-owx",
        "outputId": "4c5d9684-6eaf-4554-a055-ffaf51c0003e"
      },
      "source": [
        "#Batch GD\n",
        "\n",
        "from sympy import *\n",
        "import pandas as pd\n",
        "import random\n",
        "from math import *\n",
        "\n",
        "#step1\n",
        "m0=random.randint(-9,9)\n",
        "c0=random.randint(-9,9)\n",
        "# m0=1.0\n",
        "# c0=-1.0\n",
        "epoches=124\n",
        "learnrate=0.1\n",
        "iter=0\n",
        "\n",
        "dm=0.0\n",
        "dc=0.0\n",
        "\n",
        "\n",
        "#step2\n",
        "q=pd.read_csv(\"/content/data1.csv\")\n",
        "n0,m=q.shape\n",
        "\n",
        "x,y,m,c,ns=symbols('x y m c ns')\n",
        "e=(1/(2*ns))*((y-(m*x)-c)**2)\n",
        "\n",
        "em=e.diff(m)\n",
        "ec=e.diff(c)\n",
        "print(em,ec)\n",
        "\n",
        "si=floor((90/100)*n0)\n",
        "#training..\n",
        "\n",
        "for k in range(iter,epoches):\n",
        "  for i in range(0,n0):\n",
        "    coun=0\n",
        "    dm=0.0\n",
        "    dc=0.0\n",
        "    x1=q['x'][i]\n",
        "    y1=q['y'][i]\n",
        "      \n",
        "    dm=dm+em.subs([(m,m0),(c,c0),(x,x1),(y,y1),(ns,n0)])\n",
        "    dc=dc+ec.subs([(m,m0),(c,c0),(x,x1),(y,y1),(ns,n0)])\n",
        "      \n",
        "      \n",
        "\n",
        "  cm = (-1.0)*(learnrate)*dm\n",
        "  cc = (-1.0)*(learnrate)*dc\n",
        "\n",
        "  m0 = m0+cm\n",
        "  m0 = round(m0,3)\n",
        "  c0 = c0+cc\n",
        "  c0 = round(c0,3)\n",
        "  \n",
        "\n",
        "\n",
        "print('m = ',m0,', c = ',c0)\n",
        "\n"
      ],
      "execution_count": 3,
      "outputs": [
        {
          "output_type": "stream",
          "text": [
            "-x*(-c - m*x + y)/ns (2*c + 2*m*x - 2*y)/(2*ns)\n",
            "m =  -1.345 , c =  4.765\n"
          ],
          "name": "stdout"
        }
      ]
    },
    {
      "cell_type": "code",
      "metadata": {
        "colab": {
          "base_uri": "https://localhost:8080/"
        },
        "id": "5FrXzoQ3-y9C",
        "outputId": "53d9486a-e6a6-4614-ea5b-4c2cd638fc93"
      },
      "source": [
        "#testing...\n",
        "from sklearn.metrics import mean_squared_error \n",
        "ya=[]\n",
        "yp=[]\n",
        "\n",
        "for i in range(n0):\n",
        "    ya.append(q['y'][i])\n",
        "\n",
        "for i in range(n0):\n",
        "  x1=q['x'][i]\n",
        "  e=(m*x)+c\n",
        "  y1=e.subs([(m,m0),(x,x1),(c,c0)])\n",
        "  yp.append(y1)\n",
        "    \n",
        "print(mean_squared_error(ya, yp))"
      ],
      "execution_count": 4,
      "outputs": [
        {
          "output_type": "stream",
          "text": [
            "0.5680105055682358\n"
          ],
          "name": "stdout"
        }
      ]
    }
  ]
}