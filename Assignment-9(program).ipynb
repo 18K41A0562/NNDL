{
  "nbformat": 4,
  "nbformat_minor": 0,
  "metadata": {
    "colab": {
      "name": "Assignment-9(program).ipynb",
      "provenance": [],
      "collapsed_sections": []
    },
    "kernelspec": {
      "name": "python3",
      "display_name": "Python 3"
    },
    "language_info": {
      "name": "python"
    }
  },
  "cells": [
    {
      "cell_type": "code",
      "metadata": {
        "colab": {
          "base_uri": "https://localhost:8080/"
        },
        "id": "63oK1CXetXDt",
        "outputId": "9c59e587-e610-4106-c662-e66ce4447de9"
      },
      "source": [
        "from sympy import Symbol, Derivative, symbols\n",
        "m= Symbol('m')\n",
        "c= Symbol('c')\n",
        "function = '0.5*(y-m*x-c)**2'\n",
        "partialderiv= Derivative(function, m)\n",
        "dfm = partialderiv.doit()\n",
        "partialderiv= Derivative(function, c)\n",
        "dfc = partialderiv.doit()\n",
        "xa = [0.2,0.4,0.6,0.8]\n",
        "ya = [3.4,3.8,4.2,4.6]\n",
        "\n",
        "print(f'first order derivatives of given function are de/dm = {dfm} ,de/dc = {dfc}')\n",
        "\n",
        "#step 1 initialise values \n",
        "m1 = 1.0 \n",
        "c1 = -1.0  \n",
        "itr = 124\n",
        "gama = 0.9\n",
        "vm = vc =0\n",
        "learning_rate = 0.1  \n",
        "for i in range(0,itr):\n",
        "    for j in range(0,len(xa)):\n",
        "        \n",
        "        m = symbols('m')\n",
        "        c = symbols('c')\n",
        "        x = symbols('x')\n",
        "        y = symbols('y')\n",
        "        dfmv = dfm.subs(m, m1) \n",
        "        dfmv = dfmv.subs(c, c1) \n",
        "        dfmv = dfmv.subs(x, xa[j]) \n",
        "        dfmv = dfmv.subs(y, ya[j]) \n",
        "        dfmv = round(dfmv,2)\n",
        "        dfcv = dfc.subs(c, c1) \n",
        "        dfcv = dfcv.subs(m, m1) \n",
        "        dfcv = dfcv.subs(x, xa[j]) \n",
        "        dfcv = dfcv.subs(y, ya[j]) \n",
        "        dfcv = round(dfcv,2)\n",
        "        #step3 find change in x , y\n",
        "        vm = (gama * vm)-(learning_rate*dfmv)\n",
        "        vc = (gama * vc)-(learning_rate*dfcv)\n",
        "        #step4 update variable \n",
        "        m1 = m1 + vm\n",
        "        m1 = round(m1, 2) \n",
        "        c1 = c1 + vc\n",
        "        c1 = round(c1, 2)\n",
        "        \n",
        "\n",
        "print(m1, c1)\n",
        "print(f'minimum value obtained at m = {m1} ,c ={c1} for given function')"
      ],
      "execution_count": 1,
      "outputs": [
        {
          "output_type": "stream",
          "text": [
            "first order derivatives of given function are de/dm = -1.0*x*(-c - m*x + y) ,de/dc = 1.0*c + 1.0*m*x - 1.0*y\n",
            "2.00000000000000 3.00000000000000\n",
            "minimum value obtained at m = 2.00000000000000 ,c =3.00000000000000 for given function\n"
          ],
          "name": "stdout"
        }
      ]
    },
    {
      "cell_type": "code",
      "metadata": {
        "colab": {
          "base_uri": "https://localhost:8080/"
        },
        "id": "6EPR0k3Hu598",
        "outputId": "b958b60f-4bfc-4611-aed9-20d8f524bcd3"
      },
      "source": [
        "data_pred = []\n",
        "for i in xa:\n",
        "    data_pred.append(m1*i+c1)\n",
        "\n",
        "from sklearn.metrics import mean_squared_error\n",
        "mse = mean_squared_error(ya,data_pred)\n",
        "print(f\"mean square error : {mse}\")"
      ],
      "execution_count": 2,
      "outputs": [
        {
          "output_type": "stream",
          "text": [
            "mean square error : 0.0\n"
          ],
          "name": "stdout"
        }
      ]
    }
  ]
}